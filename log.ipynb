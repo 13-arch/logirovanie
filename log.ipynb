{
 "cells": [
  {
   "cell_type": "markdown",
   "metadata": {},
   "source": [
    "Получение имени пользователя"
   ]
  },
  {
   "cell_type": "code",
   "execution_count": 40,
   "metadata": {},
   "outputs": [],
   "source": [
    "import os\n",
    "\n",
    "user_login=os.getlogin()"
   ]
  },
  {
   "cell_type": "markdown",
   "metadata": {},
   "source": [
    "получение времени и даты в разные переменные"
   ]
  },
  {
   "cell_type": "code",
   "execution_count": 32,
   "metadata": {},
   "outputs": [
    {
     "name": "stdout",
     "output_type": "stream",
     "text": [
      "13:05:43.014970\n",
      "2025-03-27 13:05:43.014970\n"
     ]
    }
   ],
   "source": [
    "import datetime\n",
    "\n",
    "current_date=datetime.datetime.now()\n",
    "current_datetime=str(datetime.datetime.now()).split()\n",
    "\n",
    "formatted_date= current_date.strftime('%d %m %Y')\n",
    "current_time= current_datetime[1]\n",
    "\n",
    "print(current_time)\n",
    "print(current_date)"
   ]
  },
  {
   "cell_type": "markdown",
   "metadata": {},
   "source": [
    "СОБИРАЕМ ВСЕ В ДАТАФРЕЙМ"
   ]
  },
  {
   "cell_type": "code",
   "execution_count": 41,
   "metadata": {},
   "outputs": [
    {
     "name": "stdout",
     "output_type": "stream",
     "text": [
      "  user_login function_name                       date             time\n",
      "0       test     test_func 2025-03-27 13:05:43.014970  13:05:43.014970\n",
      "1     hico69      dgfdgdgf 2025-03-27 13:05:43.014970  13:05:43.014970\n"
     ]
    }
   ],
   "source": [
    "import pandas as pd\n",
    "\n",
    "\n",
    "data = {\"user_login\": ['test'], \"function_name\": ['test_func'],\"date\": [current_date],\"time\":[current_time]}\n",
    "df = pd.DataFrame(data)\n",
    "\n",
    "# Add a new row using loc[]\n",
    "df.loc[len(df)] = [user_login,\"dgfdgdgf\",current_date,current_time]\n",
    "print(df)"
   ]
  }
 ],
 "metadata": {
  "kernelspec": {
   "display_name": "Python 3",
   "language": "python",
   "name": "python3"
  },
  "language_info": {
   "codemirror_mode": {
    "name": "ipython",
    "version": 3
   },
   "file_extension": ".py",
   "mimetype": "text/x-python",
   "name": "python",
   "nbconvert_exporter": "python",
   "pygments_lexer": "ipython3",
   "version": "3.12.3"
  }
 },
 "nbformat": 4,
 "nbformat_minor": 2
}
